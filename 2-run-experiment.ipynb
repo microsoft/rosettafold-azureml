{
 "cells": [
  {
   "cell_type": "markdown",
   "metadata": {},
   "source": [
    "# 2. RoseTTAFold on Azure ML - Run Experiment\n",
    "\n",
    "## Introduction\n",
    "\n",
    "Azure is collaborating with the Baker Lab to expose their RoseTTAFold model as a service. This document describes how to get started exploring RoseTTAFold on Azure Machine Learning (Azure ML).\n",
    "\n",
    "**This is notebook #2 of 3**. In this notebook, we with run RosettaFold as an Experiment on Azure ML. We're create an input file, submit a Run, check status, and get the results.\n",
    "\n",
    "In *previous* notebook, [1-setup-workspace.ipynb](1-setup-workspace.ipynb), we ran some one-time setup steps to prepare our Azure ML Workspace with the dependency Datasets and a Compute Cluster.\n",
    "\n",
    "In the *next* notebook, [3-batch-endpoint.ipynb](3-batch-endpoint.ipynb), we'll create a Batch Endpoint so that this can be called from the Azure CLI or as a REST call. \n",
    "\n",
    "**Note.** These RoseTTAFold endpoints are not designed to run in production environments, and is strictly for non-production test environments."
   ]
  },
  {
   "cell_type": "markdown",
   "metadata": {},
   "source": [
    "## Setup"
   ]
  },
  {
   "cell_type": "markdown",
   "metadata": {},
   "source": [
    "### Load Workspace Config\n",
    "You must first download the config.json file from your Azure ML workspace (see previous steps in \"Create a workspace\"). This file should be saved locally, in the same directory as this notebook.\n",
    "\n",
    "Like in the first notebook, run the following block to load your workspace config and ensure it succeeds before proceeding. Watch the output feed, as it may require you to launch your browser and sign in."
   ]
  },
  {
   "cell_type": "code",
   "execution_count": null,
   "metadata": {},
   "outputs": [],
   "source": [
    "from azureml.core import Workspace\n",
    "\n",
    "try:\n",
    "    ws = Workspace.from_config()\n",
    "    print(ws.name, ws.location, ws.resource_group, ws.location, sep='\\t')\n",
    "    print('Azure ML workspace loaded')\n",
    "except:\n",
    "    print('Azure ML workspace not found')"
   ]
  },
  {
   "cell_type": "markdown",
   "metadata": {},
   "source": [
    "### Get the Azure ML Compute Cluster Reference\n",
    "In the first notebook, we created a compute cluster within our Azure Machine Learning workspace. Now, we'll get a referece to it using the `compute_name`."
   ]
  },
  {
   "cell_type": "code",
   "execution_count": null,
   "metadata": {},
   "outputs": [],
   "source": [
    "# Specify the name for your compute cluster\n",
    "compute_name = 'gpu-cluster'"
   ]
  },
  {
   "cell_type": "code",
   "execution_count": null,
   "metadata": {},
   "outputs": [],
   "source": [
    "from azureml.core.compute import ComputeTarget, AmlCompute\n",
    "from azureml.core.compute_target import ComputeTargetException\n",
    "\n",
    "# Check if a compute cluster with this name already exists. If so, use it. \n",
    "try:\n",
    "    compute_target = ComputeTarget(workspace=ws, name=compute_name)\n",
    "    print('Found an existing cluster with this name, use it!')\n",
    "except ComputeTargetException:\n",
    "    print('Could not find compute target. Please follow the setup instructions in notebook 1, and specify the correct compute_name in the box above')"
   ]
  },
  {
   "cell_type": "markdown",
   "metadata": {},
   "source": [
    "### Specify input data\n",
    "The RoseTTAFold job requires inputs in [FASTA format](https://en.wikipedia.org/wiki/FASTA_format). Each input should be in its own file.\n",
    "\n",
    "Here are the contents of a sample input file:\n",
    "```\n",
    ">T1078 Tsp1, Trichoderma virens, 138 residues|\n",
    "MAAPTPADKSMMAAVPEWTITNLKRVCNAGNTSCTWTFGVDTHLATATSCTYVVKANANASQASGGPVTCGPYTITSSWSGQFGPNNGFTTFAVTDFSKKLIVWPAYTDVQVQAGKVVSPNQSYAPANLPLEHHHHHH\n",
    "```\n",
    "\n",
    "**Notes:** The leading `>` indicates the beginning of a record, and **is required**. The remaining record data on the first line is useful for labelling sequence and is part of the FASTA standard, but it is not used by the RoseTTAFold algorithm.\n",
    "The amino acid sequence begins on the second line with no leading characters, and should be continuous (no spaces, no line breaks). This information is the actual input for the RoseTTAFold algoritm.\n",
    "\n",
    "Specify your sequence data below as shown, then *run* the cell. This will overwrite the contents of the file `inputs/my-sequence.fa`."
   ]
  },
  {
   "cell_type": "raw",
   "metadata": {},
   "source": [
    "%%writefile inputs/my-sequence.fa\n",
    ">T1078 Tsp1, Trichoderma virens, 138 residues|\n",
    "MAAPTPADKSMMAAVPEWTITNLKRVCNAGNTSCTWTFGVDTHLATATSCTYVVKANANASQASGGPVTCGPYTITSSWSGQFGPNNGFTTFAVTDFSKKLIVWPAYTDVQVQAGKVVSPNQSYAPANLPLEHHHHHH"
   ]
  },
  {
   "cell_type": "markdown",
   "metadata": {},
   "source": [
    "Now upload the `inputs/my-sequence.fa` file to your Azure ML Datastore. This will create a input Dataset, which is a reference to a subdirectory within the workspace's default Datastore."
   ]
  },
  {
   "cell_type": "code",
   "execution_count": null,
   "metadata": {},
   "outputs": [],
   "source": [
    "from azureml.core import Dataset\n",
    "from azureml.data.datapath import DataPath\n",
    "\n",
    "ds = ws.get_default_datastore()\n",
    "input_dataset = Dataset.File.upload_directory(\n",
    "    src_dir='./inputs/', \n",
    "    target=DataPath(ds, 'input_data'), \n",
    "    show_progress=True, \n",
    "    overwrite=True)"
   ]
  },
  {
   "cell_type": "markdown",
   "metadata": {},
   "source": [
    "### Submit the Experiment\n",
    "- Define the `Environment`, and specify the dockerfile (included in the same folder as this notebook) to be used. \n",
    "- Specify inputs and outputs\n",
    "- Create `ScriptRunConfig` that includes all of the args and configuration needed\n",
    "- Wrap it up in an `Experiment` and submit to your Azure Machine Learning workspace.\n",
    "\n",
    "This will queue a job in Azure Machine Learning, which **is a billable activity**.\n",
    "\n",
    "A link to this job's status web page will be printed below the cell."
   ]
  },
  {
   "cell_type": "code",
   "execution_count": null,
   "metadata": {},
   "outputs": [],
   "source": [
    "from azureml.core import Environment, ScriptRunConfig\n",
    "from azureml.core.runconfig import DockerConfiguration\n",
    "from azureml.core import Experiment\n",
    "from azureml.data import OutputFileDatasetConfig\n",
    "\n",
    "env = Environment(name=\"rosettaenv\")\n",
    "env.docker.base_image = None\n",
    "env.docker.base_dockerfile = \"./Dockerfile\"\n",
    "\n",
    "outputs_path = 'outputs/'\n",
    "\n",
    "args = ['--inputs', input_dataset.as_mount(),\n",
    "        '--outputs', outputs_path]\n",
    "\n",
    "run_config = ScriptRunConfig(source_directory='.',\n",
    "                            script=\"score.py\",\n",
    "                            arguments=args,\n",
    "                            compute_target=compute_target,\n",
    "                            docker_runtime_config=DockerConfiguration(use_docker=True),\n",
    "                            environment=env)\n",
    "\n",
    "run = Experiment(ws, 'RoseTTAFold-Scoring').submit(run_config)\n",
    "run"
   ]
  },
  {
   "cell_type": "code",
   "execution_count": null,
   "metadata": {},
   "outputs": [],
   "source": [
    "run.wait_for_completion(show_output=True)"
   ]
  },
  {
   "cell_type": "markdown",
   "metadata": {},
   "source": [
    "### Get the outputs"
   ]
  },
  {
   "cell_type": "code",
   "execution_count": null,
   "metadata": {},
   "outputs": [],
   "source": [
    "run.download_files(prefix=outputs_path)"
   ]
  }
 ],
 "metadata": {
  "interpreter": {
   "hash": "2e927916db59292ac726eb420cad9da96b7b0d3a98e037f3f33f956183ca5cf2"
  },
  "kernelspec": {
   "display_name": "Python 3.7.6 64-bit",
   "language": "python",
   "name": "python3"
  },
  "language_info": {
   "codemirror_mode": {
    "name": "ipython",
    "version": 3
   },
   "file_extension": ".py",
   "mimetype": "text/x-python",
   "name": "python",
   "nbconvert_exporter": "python",
   "pygments_lexer": "ipython3",
   "version": "3.7.6"
  },
  "orig_nbformat": 4
 },
 "nbformat": 4,
 "nbformat_minor": 2
}
