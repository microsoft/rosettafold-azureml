{
 "cells": [
  {
   "cell_type": "markdown",
   "metadata": {},
   "source": [
    "# 1. RoseTTAFold on Azure ML - Setup\n",
    "\n",
    "## Introduction\n",
    "\n",
    "Azure is collaborating with the Baker Lab to expose their RoseTTAFold model as a service. This document describes how to get started exploring RoseTTAFold on Azure Machine Learning (Azure ML).\n",
    "\n",
    "In this first notebook, we'll set up your Azure Machine Learning workspace with the data and compute cluster you'll need to get started.\n",
    "\n",
    "**The setup steps in this first notebook only need to be followed once.** \n",
    "\n",
    "In the next notebook, [2-run-experiment.ipynb](2-run-experiment.ipynb) we'll specify some amino acid sequence data and run a RoseTTAFold job in your Azure Machine Learning workspace.\n",
    "\n",
    "Then, in [3-batch-endpoint.ipynb](3-batch-endpoint.ipynb) we'll create a Batch Endpoint so that this can be called from the Azure CLI or as a REST call. \n",
    "\n",
    "**Note.** This RoseTTAFold endpoint is not designed to run in production environments, and is strictly for non-production test environments."
   ]
  },
  {
   "cell_type": "markdown",
   "metadata": {},
   "source": [
    "## Setup"
   ]
  },
  {
   "cell_type": "code",
   "execution_count": null,
   "metadata": {},
   "outputs": [],
   "source": [
    "%pip install --user azureml-core azureml-dataset-runtime azureml-pipeline"
   ]
  },
  {
   "cell_type": "markdown",
   "metadata": {},
   "source": [
    "### VS Code Setup\n",
    "If running this notebook within VS Code, ensure that the [Azure Machine Learning extension](https://marketplace.visualstudio.com/items?itemName=ms-toolsai.vscode-ai) is installed.\n",
    "\n",
    "Select the Azure icon in the left pane, and sign into your Account account.\n"
   ]
  },
  {
   "cell_type": "markdown",
   "metadata": {},
   "source": [
    "### Create a workspace \n",
    "1. Sign in to the [Azure ML Studio](https://ml.azure.com/home) using the credentials for your Azure subscription.\n",
    "2. Click the \"Create workspace\" button\n",
    "3. In the \"Create new workspace\" dialog, select your subsciption, then fill out the remaining details and select \"Create\".\n",
    "4. Once the workspace is created, tap your workspace name in the top right corner to open the dropdown.\n",
    "5. Select \"Download config file\", and save (or copy) the config.json file to the directory where this notebook is located.\n"
   ]
  },
  {
   "cell_type": "markdown",
   "metadata": {},
   "source": [
    "### Load Workspace Config\n",
    "You must first download the config.json file from your Azure ML workspace (see previous steps in \"Create a workspace\"). This file should be saved locally, in the same directory as this notebook.\n",
    "\n",
    "Run the following block to load your workspace config, and ensure it succeeds before proceeding. Watch the output feed, as it may require you to launch your browser and sign in."
   ]
  },
  {
   "cell_type": "code",
   "execution_count": null,
   "metadata": {},
   "outputs": [],
   "source": [
    "from azureml.core import Workspace\n",
    "\n",
    "try:\n",
    "    ws = Workspace.from_config()\n",
    "    print(ws.name, ws.location, ws.resource_group, ws.location, sep='\\t')\n",
    "    print('Azure ML workspace loaded')\n",
    "except:\n",
    "    print('Azure ML workspace not found')"
   ]
  },
  {
   "cell_type": "markdown",
   "metadata": {},
   "source": [
    "### Create Azure ML Compute Cluster\n",
    "Next, we'll create a compute cluster, or load an existing one. First, specify the name and parameters for your compute cluster.\n",
    "\n",
    "By default, we've selected a 'Standard_NC12' VM size, which includes an NVIDIA Tesla K80 GPU. See more details on Azure VM specifications [here](https://docs.microsoft.com/en-us/azure/virtual-machines/nc-series)."
   ]
  },
  {
   "cell_type": "code",
   "execution_count": null,
   "metadata": {},
   "outputs": [],
   "source": [
    "# Specify the name for your compute cluster\n",
    "compute_name = 'gpu-cluster'\n",
    "\n",
    "# If this is a *new* compute cluster, also specify the following VM properties\n",
    "cluster_vm_size = 'Standard_NC12' # 'Standard_NC12' is a VM size that includes an NVIDIA Tesla K80 GPU \n",
    "cluster_min_nodes = 0\n",
    "cluster_max_nodes = 1"
   ]
  },
  {
   "cell_type": "code",
   "execution_count": null,
   "metadata": {},
   "outputs": [],
   "source": [
    "from azureml.core.compute import ComputeTarget, AmlCompute\n",
    "from azureml.core.compute_target import ComputeTargetException\n",
    "\n",
    "# Check if a compute cluster with this name already exists. If so, use it. \n",
    "try:\n",
    "    compute_target = ComputeTarget(workspace=ws, name=compute_name)\n",
    "    print('Found an existing cluster with this name, use it.')\n",
    "except ComputeTargetException:\n",
    "    print('Creating a new cluster with the specified name and parameters...')\n",
    "    config = AmlCompute.provisioning_configuration(vm_size=cluster_vm_size,\n",
    "                                                    min_nodes=cluster_min_nodes,\n",
    "                                                    max_nodes=cluster_max_nodes)\n",
    "    compute_target = ComputeTarget.create(workspace=ws,\n",
    "                                    name=compute_name, \n",
    "                                    provisioning_configuration=config)\n",
    "\n",
    "    compute_target.wait_for_completion(show_output=True,\n",
    "                                        min_node_count=None,\n",
    "                                        timeout_in_minutes=20)"
   ]
  },
  {
   "cell_type": "markdown",
   "metadata": {},
   "source": [
    "### Import the Dependencies as Datasets\n",
    "The endpoint assumes the databases required for RoseTTAFold are available via registered datasets in the workspace.\n",
    "   The data is available in a [public blob storage](https://ms.portal.azure.com/#blade/Microsoft_Azure_Storage/ContainerMenuBlade/overview/storageAccountId/%2Fsubscriptions%2F48bbc269-ce89-4f6f-9a12-c6f91fcb772d%2FresourceGroups%2Faml1p-rg%2Fproviders%2FMicrosoft.Storage%2FstorageAccounts%2Frosettafold/path/rosettafold-dependencies%2Fdbs%2FUniRef%2F), under these paths:\n",
    "   - rosettafold_weights :\"weights/\"\n",
    "   - rosettafold_bfd :\"dbs/bfd/bfd/\"\n",
    "   - rosettafold_UniRef:\"dbs/UniRef/\"\n",
    "   - rosettafold_pdb:\"dbs/pdb/\"\n",
    "\n",
    "First, connect to the datastore (Azure Blob):"
   ]
  },
  {
   "cell_type": "code",
   "execution_count": null,
   "metadata": {},
   "outputs": [],
   "source": [
    "from azureml.core.datastore import Datastore\n",
    "\n",
    "ds = ws.get_default_datastore()\n",
    "\n",
    "dependencies_blob = Datastore.register_azure_blob_container(ws, \n",
    "                      datastore_name=\"rosettafold_dependencies\", \n",
    "                      container_name=\"rosettafold-dependencies\", \n",
    "                      account_name=\"rosettafold\", \n",
    "                      overwrite=True)"
   ]
  },
  {
   "cell_type": "markdown",
   "metadata": {},
   "source": [
    "Now create the dependency Datasets, which are references to subdirectories within the above Datastore"
   ]
  },
  {
   "cell_type": "code",
   "execution_count": null,
   "metadata": {},
   "outputs": [],
   "source": [
    "from azureml.core.dataset import Dataset\n",
    "\n",
    "datastore_sources = [\n",
    "    ('rosettafold_weights', 'weights/'),\n",
    "    ('rosettafold_bfd', 'dbs/bfd/bfd/'),\n",
    "    ('rosettafold_UniRef', 'dbs/UniRef/'),\n",
    "    ('rosettafold_pdb', 'dbs/pdb/'),\n",
    "]\n",
    "\n",
    "for ds_name, ds_path in datastore_sources:\n",
    "    # Create the dataset using as a subfolder reference winthin the dependencies_blob\n",
    "    dataset = Dataset.File.from_files((dependencies_blob, ds_path))\n",
    "\n",
    "    # Register the dataset with your Azure ML workspace, so that the inference script can easily reference by name\n",
    "    dataset = dataset.register(workspace=ws, name=ds_name)"
   ]
  },
  {
   "cell_type": "markdown",
   "metadata": {},
   "source": [
    "Workspace setup is complete! You only have to do this one time (per workspace). Next, we'll specify some data and run the RoseTTAFold algorithm. \n",
    "\n",
    "See next notebook: [2-run-experiment.ipynb](2-run-experiment.ipynb)"
   ]
  },
  {
   "cell_type": "markdown",
   "metadata": {},
   "source": []
  }
 ],
 "metadata": {
  "interpreter": {
   "hash": "2e927916db59292ac726eb420cad9da96b7b0d3a98e037f3f33f956183ca5cf2"
  },
  "kernelspec": {
   "display_name": "Python 3.7.6 64-bit",
   "language": "python",
   "name": "python3"
  },
  "language_info": {
   "codemirror_mode": {
    "name": "ipython",
    "version": 3
   },
   "file_extension": ".py",
   "mimetype": "text/x-python",
   "name": "python",
   "nbconvert_exporter": "python",
   "pygments_lexer": "ipython3",
   "version": "3.7.6"
  },
  "orig_nbformat": 4
 },
 "nbformat": 4,
 "nbformat_minor": 2
}
